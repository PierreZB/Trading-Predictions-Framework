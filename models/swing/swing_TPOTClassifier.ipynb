{
 "cells": [
  {
   "cell_type": "code",
   "execution_count": 1,
   "metadata": {},
   "outputs": [
    {
     "data": {
      "text/html": [
       "<table style=\"border: 2px solid white;\">\n",
       "<tr>\n",
       "<td style=\"vertical-align: top; border: 0px solid white\">\n",
       "<h3 style=\"text-align: left;\">Client</h3>\n",
       "<ul style=\"text-align: left; list-style: none; margin: 0; padding: 0;\">\n",
       "  <li><b>Scheduler: </b>tcp://127.0.0.1:49221</li>\n",
       "  <li><b>Dashboard: </b><a href='http://127.0.0.1:8787/status' target='_blank'>http://127.0.0.1:8787/status</a>\n",
       "</ul>\n",
       "</td>\n",
       "<td style=\"vertical-align: top; border: 0px solid white\">\n",
       "<h3 style=\"text-align: left;\">Cluster</h3>\n",
       "<ul style=\"text-align: left; list-style:none; margin: 0; padding: 0;\">\n",
       "  <li><b>Workers: </b>4</li>\n",
       "  <li><b>Cores: </b>12</li>\n",
       "  <li><b>Memory: </b>17.11 GB</li>\n",
       "</ul>\n",
       "</td>\n",
       "</tr>\n",
       "</table>"
      ],
      "text/plain": [
       "<Client: 'tcp://127.0.0.1:49221' processes=4 threads=12, memory=17.11 GB>"
      ]
     },
     "execution_count": 1,
     "metadata": {},
     "output_type": "execute_result"
    }
   ],
   "source": [
    "from dask.distributed import Client\n",
    "client = Client()\n",
    "# client = Client(n_workers=8)\n",
    "client"
   ]
  },
  {
   "cell_type": "code",
   "execution_count": null,
   "metadata": {},
   "outputs": [],
   "source": [
    "# <editor-fold desc=\" ===== Import ======================================== \">\n",
    "# from scripts.project_settings import *\n",
    "from datetime import datetime\n",
    "import numpy as np\n",
    "import pandas as pd\n",
    "from ta import *\n",
    "import tpot\n",
    "from tpot import TPOTClassifier\n",
    "from sklearn.model_selection import train_test_split\n",
    "from sklearn.preprocessing import QuantileTransformer\n",
    "\n",
    "\n",
    "# Change pandas display options to show full tables\n",
    "pd.set_option('display.expand_frame_repr', False)\n",
    "pd.set_option('display.max_rows', 25)\n",
    "# </editor-fold>\n",
    "\n",
    "# <editor-fold desc=\" ===== Load data ===================================== \">\n",
    "strategyFolder = 'swing'\n",
    "source_path = '../../data/models_raw/swing/' + strategyFolder + '/'\n",
    "\n",
    "csv_source_file = (\n",
    "    'EURUSD_H1_20050101_20191026_swingV03_0200-0080-0040-0040.csv'\n",
    ")\n",
    "\n",
    "source_file = str(source_path + csv_source_file)\n",
    "\n",
    "destination_path = '../../data/models_raw/' + strategyFolder + '/'\n",
    "output_file = destination_path + csv_source_file.rsplit(\"_\", 2)[0]\n",
    "\n",
    "df = pd.read_csv(source_file, sep=\",\", encoding='utf-8', engine='c')\n",
    "\n",
    "# # TODO 1 REMOVE THIS LINE !!!\n",
    "# df = df.head(1000)\n",
    "\n",
    "df = df.sort_values(\n",
    "    by=[str('ID')], ascending=True, na_position='first'\n",
    ")\n",
    "df = df.drop_duplicates(subset='ID')\n",
    "df = df.reset_index(drop=True)\n",
    "df = df.round({\n",
    "    # 'volume': 0,\n",
    "    'open': 5,\n",
    "    'high': 5,\n",
    "    'low': 5,\n",
    "    'close': 5\n",
    "})\n",
    "# </editor-fold>\n",
    "\n",
    "# <editor-fold desc=\" ===== Pre-process and split ========================= \">\n",
    "\n",
    "# split variables and targets, and remove fields that can't be pre-processed\n",
    "dfData = df.drop(['ID', 'timestamp', 'target'], axis=1)\n",
    "dfTarget = df[['target']]\n",
    "\n",
    "# Pre-process variables and convert to numpy arrays\n",
    "qt = QuantileTransformer()\n",
    "data = qt.fit_transform(dfData)\n",
    "target = dfTarget.values\n",
    "\n",
    "# Get number of rows in df to split data set\n",
    "rowsdf, colsdf = data.shape\n",
    "trainRows = round(rowsdf * 0.9)\n",
    "testRows = round(rowsdf - trainRows)\n",
    "\n",
    "# Split into training and test data sets\n",
    "X_train = data[:trainRows,:]\n",
    "X_test = data[testRows:,:]\n",
    "y_train = target[:trainRows,:]\n",
    "y_test = target[testRows:,:]\n",
    "\n",
    "y_train = y_train.ravel()\n",
    "y_test = y_test.ravel()\n",
    "\n",
    "# delete original df\n",
    "del df, data, target\n",
    "\n",
    "print('===== data load and pre-process complete =====')\n",
    "# </editor-fold>"
   ]
  },
  {
   "cell_type": "code",
   "execution_count": null,
   "metadata": {},
   "outputs": [],
   "source": [
    "# <editor-fold desc=\" ===== TPOT ========================================== \">\n",
    "\n",
    "# TPOT config\n",
    "tpot_config = {\n",
    "    'sklearn.neural_network.MLPClassifier': {\n",
    "    }\n",
    "}\n",
    "\n",
    "# TPOT classifier\n",
    "tp = TPOTClassifier(\n",
    "#     config_dict=tpot_config,  # None\n",
    "#     memory='/Users/mbp13/OneDrive/GitHub/Trading-Predictions-Framework/models/swing/TPOT_caching_macOS_01',\n",
    "    memory='C:/Users/xau/OneDrive/GitHub/Trading-Predictions-Framework/models/swing/TPOT_caching',\n",
    "    warm_start=True,\n",
    "#     template='Selector-Transformer-Classifier',\n",
    "    template='Classifier',\n",
    "    generations=100,  # 100\n",
    "    population_size=10,  # 100\n",
    "    cv=3,  # 5\n",
    "    n_jobs=-1,  # -1\n",
    "    max_time_mins=None,  # None\n",
    "    max_eval_time_mins=2,  # 5\n",
    "    random_state=None,  # None\n",
    "    early_stop=None,  # None\n",
    "    use_dask=True,  # False\n",
    "    verbosity=2  # 0\n",
    ")\n"
   ]
  },
  {
   "cell_type": "code",
   "execution_count": null,
   "metadata": {},
   "outputs": [],
   "source": [
    "# fit data\n",
    "tp.fit(X_train, y_train)"
   ]
  },
  {
   "cell_type": "code",
   "execution_count": null,
   "metadata": {},
   "outputs": [],
   "source": [
    "# score model\n",
    "print(tp.score(X_test, y_test))"
   ]
  },
  {
   "cell_type": "code",
   "execution_count": null,
   "metadata": {},
   "outputs": [],
   "source": [
    "# export optimised classifier code\n",
    "tp.export('swingV03_tpotClassifierPipeline.py')\n",
    "\n",
    "# </editor-fold>"
   ]
  }
 ],
 "metadata": {
  "kernelspec": {
   "display_name": "Python 3",
   "language": "python",
   "name": "python3"
  },
  "language_info": {
   "codemirror_mode": {
    "name": "ipython",
    "version": 3
   },
   "file_extension": ".py",
   "mimetype": "text/x-python",
   "name": "python",
   "nbconvert_exporter": "python",
   "pygments_lexer": "ipython3",
   "version": "3.7.5"
  }
 },
 "nbformat": 4,
 "nbformat_minor": 4
}
